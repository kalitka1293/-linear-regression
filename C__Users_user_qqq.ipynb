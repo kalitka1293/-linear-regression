{
 "cells": [
  {
   "cell_type": "code",
   "execution_count": 251,
   "id": "8a78820c",
   "metadata": {},
   "outputs": [
    {
     "name": "stdout",
     "output_type": "stream",
     "text": [
      "a =  -6.048543689320389 \n",
      "b =  147.3203883495146\n",
      "Y(0) y_min =  147.3203883495146 \n",
      "Y(x+1) y_max =  -198057.4077669903\n",
      "Линейный коофицент корреляции =  -0.719 \n",
      "Коофицент детерминации =  0.517\n"
     ]
    },
    {
     "data": {
      "image/png": "[encoded data removed]",
      "text/plain": [
       "<Figure size 432x288 with 1 Axes>"
      ]
     },
     "metadata": {
      "needs_background": "light"
     },
     "output_type": "display_data"
    }
   ],
   "source": [
    "import pandas as pd\n",
    "import numpy as np\n",
    "%matplotlib inline\n",
    "import matplotlib.pyplot as plt\n",
    "\n",
    "# x = np.array([0, 1, 2, 4, 5])\n",
    "# y = np.array([2.1, 2.4, 2.6, 2.8, 3])\n",
    "\n",
    "# x = np.array([1, 2, 3, 4, 6])\n",
    "# y = np.array([5.3, 6.3, 4.8, 3.8, 3.3])\n",
    "\n",
    "x = np.array([12, 9, 8, 14, 15, 11, 10, 15])\n",
    "y = np.array([42, 107, 100, 60, 78, 79, 90, 54])\n",
    "\n",
    "# x = np.array([3, 4, 4, 5, 5,5, 6, 6, 6, 7 ,7])\n",
    "# y = np.array([5, 5, 7, 5, 7, 9, 7, 9, 11, 9, 11])\n",
    "\n",
    "# x = np.array([0, -1, -3, -5, 1, 3, 4])\n",
    "# y = np.array([2 ,0, -2, -4, 9, 5, 7])\n",
    "\n",
    "def view_pandas(x, y):\n",
    "    data = pd.DataFrame({'x':x, 'y':y})\n",
    "    return data\n",
    "\n",
    "def f(x):\n",
    "    y = a*x+b\n",
    "    return y\n",
    "\n",
    "\n",
    "data = view_pandas(x, y)\n",
    "\n",
    "x_i = np.sum(x)\n",
    "y_i = np.sum(y)\n",
    "x_y = np.sum(np.multiply(x, y))\n",
    "x_2 = np.sum(np.power(x, 2))\n",
    "n = len(x)\n",
    "\n",
    "a = (n*x_y - x_i * y_i)/(n*x_2-x_i**2)\n",
    "b = (y_i - (a*x_i))/n\n",
    "\n",
    "d = pd.DataFrame((x_i, y_i, x_y, x_2), index=['Xi', 'Yi', 'XiYi', 'X*2i'])\n",
    "\n",
    "print('a = ', a, '\\nb = ', b)\n",
    "y_min = a*0+b\n",
    "y_max = (a*((n**5)+1)) + b\n",
    "print('Y(0) y_min = ', y_min, '\\nY(x+1) y_max = ', y_max)\n",
    "\n",
    "\n",
    "r = (np.mean(x*y) - (np.mean(x)*np.mean(y)))/(np.std(x)*np.std(y))\n",
    "kor = np.around(r, decimals=3)\n",
    "deter = r**2\n",
    "deter = np.around(deter, decimals=3)\n",
    "print('Линейный коофицент корреляции = ', kor, '\\nКоофицент детерминации = ', deter)\n",
    "\n",
    "\n",
    "plt.scatter(x, y)\n",
    "plt.axis([np.min(x)-1, np.max(x)+5, np.min(y)-5, np.max(y)+5])\n",
    "plt.plot([0, ((len(x)**5)+1)], [y_min, y_max], color='red', linewidth=1)\n",
    "plt.show()"
   ]
  },
  {
   "cell_type": "code",
   "execution_count": 252,
   "id": "40cf0b75",
   "metadata": {},
   "outputs": [
    {
     "data": {
      "text/plain": [
       "74.73786407766993"
      ]
     },
     "execution_count": 252,
     "metadata": {},
     "output_type": "execute_result"
    }
   ],
   "source": [
    "f(12)"
   ]
  },
  {
   "cell_type": "code",
   "execution_count": null,
   "id": "be871ff8",
   "metadata": {},
   "outputs": [],
   "source": []
  },
  {
   "cell_type": "code",
   "execution_count": null,
   "id": "665e1188",
   "metadata": {},
   "outputs": [],
   "source": []
  },
  {
   "cell_type": "code",
   "execution_count": null,
   "id": "f5c1edcb",
   "metadata": {},
   "outputs": [],
   "source": []
  },
  {
   "cell_type": "code",
   "execution_count": null,
   "id": "35d9f5df",
   "metadata": {},
   "outputs": [],
   "source": []
  },
  {
   "cell_type": "code",
   "execution_count": null,
   "id": "e6dfb13f",
   "metadata": {},
   "outputs": [],
   "source": []
  },
  {
   "cell_type": "code",
   "execution_count": null,
   "id": "a5de9732",
   "metadata": {},
   "outputs": [],
   "source": []
  },
  {
   "cell_type": "code",
   "execution_count": null,
   "id": "9b2acdaf",
   "metadata": {},
   "outputs": [],
   "source": []
  },
  {
   "cell_type": "code",
   "execution_count": null,
   "id": "ff38e1c4",
   "metadata": {},
   "outputs": [],
   "source": []
  }
 ],
 "metadata": {
  "kernelspec": {
   "display_name": "Python 3 (ipykernel)",
   "language": "python",
   "name": "python3"
  },
  "language_info": {
   "codemirror_mode": {
    "name": "ipython",
    "version": 3
   },
   "file_extension": ".py",
   "mimetype": "text/x-python",
   "name": "python",
   "nbconvert_exporter": "python",
   "pygments_lexer": "ipython3",
   "version": "3.9.7"
  }
 },
 "nbformat": 4,
 "nbformat_minor": 5
}
